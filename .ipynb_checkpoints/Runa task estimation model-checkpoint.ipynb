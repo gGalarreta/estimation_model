{
 "cells": [
  {
   "cell_type": "code",
   "execution_count": 6,
   "metadata": {},
   "outputs": [],
   "source": [
    "#1. Define colums that be used in the model\n",
    "#2. Define numerical values from colums\n",
    "#3. Construct data set\n",
    "#4. Clean data set\n",
    "#5. Data exploration\n",
    "#6. Train model\n",
    "#7. Test model"
   ]
  },
  {
   "cell_type": "code",
   "execution_count": 8,
   "metadata": {},
   "outputs": [],
   "source": [
    "# Define colums that be used in the model\n",
    "# prom (prom subcompany*empleado + #tickets) -> card_value\n",
    "#Se buscara predecir la dificultad desde el inicio del desarrollo de la card hasta que empezo a generar ganancias"
   ]
  },
  {
   "cell_type": "code",
   "execution_count": 24,
   "metadata": {},
   "outputs": [],
   "source": [
    "#imports\n",
    "# Load the Pandas libraries with alias 'pd' \n",
    "import pandas as pd"
   ]
  },
  {
   "cell_type": "code",
   "execution_count": 33,
   "metadata": {},
   "outputs": [
    {
     "data": {
      "text/html": [
       "<div>\n",
       "<style scoped>\n",
       "    .dataframe tbody tr th:only-of-type {\n",
       "        vertical-align: middle;\n",
       "    }\n",
       "\n",
       "    .dataframe tbody tr th {\n",
       "        vertical-align: top;\n",
       "    }\n",
       "\n",
       "    .dataframe thead th {\n",
       "        text-align: right;\n",
       "    }\n",
       "</style>\n",
       "<table border=\"1\" class=\"dataframe\">\n",
       "  <thead>\n",
       "    <tr style=\"text-align: right;\">\n",
       "      <th></th>\n",
       "      <th>CARD ID</th>\n",
       "      <th>difficult</th>\n",
       "      <th>number_of_cards_in_sprint</th>\n",
       "      <th>standard_acceptance_requirements</th>\n",
       "      <th>clients_requirements</th>\n",
       "      <th>card_value</th>\n",
       "      <th>first_big_concept</th>\n",
       "      <th>second_big_concept</th>\n",
       "      <th>is_backend</th>\n",
       "      <th>avg_seniority_back</th>\n",
       "      <th>is_frontend</th>\n",
       "      <th>avg_seniority_frontend</th>\n",
       "      <th>is_feature</th>\n",
       "      <th>is_hotfix</th>\n",
       "      <th>is_improvement</th>\n",
       "    </tr>\n",
       "  </thead>\n",
       "  <tbody>\n",
       "    <tr>\n",
       "      <th>0</th>\n",
       "      <td>RUNA-662</td>\n",
       "      <td>hard</td>\n",
       "      <td>10</td>\n",
       "      <td>7</td>\n",
       "      <td>4</td>\n",
       "      <td>476</td>\n",
       "      <td>payroll</td>\n",
       "      <td>kardex</td>\n",
       "      <td>Si</td>\n",
       "      <td>0.4</td>\n",
       "      <td>No</td>\n",
       "      <td>0.70</td>\n",
       "      <td>Si</td>\n",
       "      <td>No</td>\n",
       "      <td>No</td>\n",
       "    </tr>\n",
       "    <tr>\n",
       "      <th>1</th>\n",
       "      <td>RUNA-38</td>\n",
       "      <td>easy</td>\n",
       "      <td>8</td>\n",
       "      <td>8</td>\n",
       "      <td>5</td>\n",
       "      <td>350</td>\n",
       "      <td>payroll</td>\n",
       "      <td>isn</td>\n",
       "      <td>Si</td>\n",
       "      <td>0.5</td>\n",
       "      <td>Si</td>\n",
       "      <td>0.60</td>\n",
       "      <td>No</td>\n",
       "      <td>Si</td>\n",
       "      <td>No</td>\n",
       "    </tr>\n",
       "    <tr>\n",
       "      <th>2</th>\n",
       "      <td>RUNA-571</td>\n",
       "      <td>easy</td>\n",
       "      <td>12</td>\n",
       "      <td>3</td>\n",
       "      <td>6</td>\n",
       "      <td>120</td>\n",
       "      <td>payroll</td>\n",
       "      <td>employees</td>\n",
       "      <td>Si</td>\n",
       "      <td>0.8</td>\n",
       "      <td>Si</td>\n",
       "      <td>0.65</td>\n",
       "      <td>No</td>\n",
       "      <td>Si</td>\n",
       "      <td>No</td>\n",
       "    </tr>\n",
       "    <tr>\n",
       "      <th>3</th>\n",
       "      <td>RUNA-40</td>\n",
       "      <td>hard</td>\n",
       "      <td>13</td>\n",
       "      <td>3</td>\n",
       "      <td>4</td>\n",
       "      <td>456</td>\n",
       "      <td>outsourcer</td>\n",
       "      <td>company</td>\n",
       "      <td>Si</td>\n",
       "      <td>0.7</td>\n",
       "      <td>Si</td>\n",
       "      <td>0.70</td>\n",
       "      <td>No</td>\n",
       "      <td>No</td>\n",
       "      <td>Si</td>\n",
       "    </tr>\n",
       "  </tbody>\n",
       "</table>\n",
       "</div>"
      ],
      "text/plain": [
       "    CARD ID difficult  number_of_cards_in_sprint  \\\n",
       "0  RUNA-662      hard                         10   \n",
       "1   RUNA-38      easy                          8   \n",
       "2  RUNA-571      easy                         12   \n",
       "3   RUNA-40      hard                         13   \n",
       "\n",
       "   standard_acceptance_requirements  clients_requirements  card_value  \\\n",
       "0                                 7                     4         476   \n",
       "1                                 8                     5         350   \n",
       "2                                 3                     6         120   \n",
       "3                                 3                     4         456   \n",
       "\n",
       "  first_big_concept second_big_concept is_backend  avg_seniority_back  \\\n",
       "0           payroll             kardex         Si                 0.4   \n",
       "1           payroll                isn         Si                 0.5   \n",
       "2           payroll          employees         Si                 0.8   \n",
       "3        outsourcer            company         Si                 0.7   \n",
       "\n",
       "  is_frontend  avg_seniority_frontend is_feature is_hotfix is_improvement  \n",
       "0          No                    0.70         Si        No             No  \n",
       "1          Si                    0.60         No        Si             No  \n",
       "2          Si                    0.65         No        Si             No  \n",
       "3          Si                    0.70         No        No             Si  "
      ]
     },
     "execution_count": 33,
     "metadata": {},
     "output_type": "execute_result"
    }
   ],
   "source": [
    "task_data = pd.read_csv(\"task_data_detail.csv\", sep='\\s*,\\s*',header=0, encoding='ascii', engine='python')\n",
    "task_data.head()"
   ]
  },
  {
   "cell_type": "code",
   "execution_count": 28,
   "metadata": {},
   "outputs": [],
   "source": [
    "# task_data.info()"
   ]
  },
  {
   "cell_type": "code",
   "execution_count": 55,
   "metadata": {},
   "outputs": [],
   "source": [
    "def print_means(data, difficult):\n",
    "    print(\"Difficult: \" + difficult)\n",
    "    is_difficult =  data['difficult']== difficult\n",
    "    difficult_cards = data[is_hard]\n",
    "    print(difficult_cards.mean())\n",
    "    print(\"===============================\")"
   ]
  },
  {
   "cell_type": "code",
   "execution_count": 56,
   "metadata": {},
   "outputs": [
    {
     "name": "stdout",
     "output_type": "stream",
     "text": [
      "Difficult: hard\n",
      "number_of_cards_in_sprint            11.50\n",
      "standard_acceptance_requirements      5.00\n",
      "clients_requirements                  4.00\n",
      "card_value                          466.00\n",
      "avg_seniority_back                    0.55\n",
      "avg_seniority_frontend                0.70\n",
      "dtype: float64\n",
      "===============================\n",
      "Difficult: medium\n",
      "number_of_cards_in_sprint            11.50\n",
      "standard_acceptance_requirements      5.00\n",
      "clients_requirements                  4.00\n",
      "card_value                          466.00\n",
      "avg_seniority_back                    0.55\n",
      "avg_seniority_frontend                0.70\n",
      "dtype: float64\n",
      "===============================\n",
      "Difficult: easy\n",
      "number_of_cards_in_sprint            11.50\n",
      "standard_acceptance_requirements      5.00\n",
      "clients_requirements                  4.00\n",
      "card_value                          466.00\n",
      "avg_seniority_back                    0.55\n",
      "avg_seniority_frontend                0.70\n",
      "dtype: float64\n",
      "===============================\n"
     ]
    }
   ],
   "source": [
    "print_means(task_data, 'hard')\n",
    "print_means(task_data, 'medium')\n",
    "print_means(task_data, 'easy')"
   ]
  },
  {
   "cell_type": "code",
   "execution_count": 64,
   "metadata": {},
   "outputs": [],
   "source": [
    "def fill_null_values_with_means(data, column):\n",
    "    if data[column].isnull().any():\n",
    "        data[column] = data[column].fillna(data[column].mean()[0])"
   ]
  },
  {
   "cell_type": "code",
   "execution_count": 65,
   "metadata": {},
   "outputs": [],
   "source": [
    "def fill_null_values_with_mode(data, column):\n",
    "    if data[column].isnull().any():\n",
    "        data[column] = data[column].fillna(data[column].mode()[0])"
   ]
  },
  {
   "cell_type": "code",
   "execution_count": 61,
   "metadata": {},
   "outputs": [
    {
     "data": {
      "text/plain": [
       "False"
      ]
     },
     "execution_count": 61,
     "metadata": {},
     "output_type": "execute_result"
    }
   ],
   "source": [
    "#Complete empty values with means\n",
    "fill_null_values_with_mode(task_data, 'number_of_cards_in_sprint')\n",
    "fill_null_values_with_means(task_data, 'number_of_cards_in_sprint')"
   ]
  }
 ],
 "metadata": {
  "kernelspec": {
   "display_name": "Python 3",
   "language": "python",
   "name": "python3"
  },
  "language_info": {
   "codemirror_mode": {
    "name": "ipython",
    "version": 3
   },
   "file_extension": ".py",
   "mimetype": "text/x-python",
   "name": "python",
   "nbconvert_exporter": "python",
   "pygments_lexer": "ipython3",
   "version": "3.6.4"
  }
 },
 "nbformat": 4,
 "nbformat_minor": 2
}
