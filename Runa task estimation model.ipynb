{
 "cells": [
  {
   "cell_type": "code",
   "execution_count": 8,
   "metadata": {},
   "outputs": [],
   "source": [
    "# Define colums that be used in the model\n",
    "# prom (prom subcompany*empleado + #tickets) -> card_value\n",
    "#Se buscara predecir la dificultad desde el inicio del desarrollo de la card hasta que empezo a generar ganancias"
   ]
  },
  {
   "cell_type": "code",
   "execution_count": 319,
   "metadata": {},
   "outputs": [],
   "source": [
    "#imports\n",
    "import pandas as pd\n",
    "import matplotlib.pyplot as plt\n",
    "import numpy as np\n",
    "import seaborn as sns\n",
    "from sklearn import preprocessing\n",
    "from sklearn.model_selection import train_test_split\n",
    "from sklearn.svm import SVC\n",
    "from sklearn.metrics import classification_report, confusion_matrix\n",
    "from sklearn.metrics import confusion_matrix\n",
    "from sklearn.utils.multiclass import unique_labels"
   ]
  },
  {
   "cell_type": "code",
   "execution_count": 257,
   "metadata": {},
   "outputs": [
    {
     "data": {
      "text/html": [
       "<div>\n",
       "<style scoped>\n",
       "    .dataframe tbody tr th:only-of-type {\n",
       "        vertical-align: middle;\n",
       "    }\n",
       "\n",
       "    .dataframe tbody tr th {\n",
       "        vertical-align: top;\n",
       "    }\n",
       "\n",
       "    .dataframe thead th {\n",
       "        text-align: right;\n",
       "    }\n",
       "</style>\n",
       "<table border=\"1\" class=\"dataframe\">\n",
       "  <thead>\n",
       "    <tr style=\"text-align: right;\">\n",
       "      <th></th>\n",
       "      <th>CARD ID</th>\n",
       "      <th>difficult</th>\n",
       "      <th>number_of_cards_in_sprint</th>\n",
       "      <th>standard_acceptance_requirements</th>\n",
       "      <th>clients_requirements</th>\n",
       "      <th>card_value</th>\n",
       "      <th>first_big_concept</th>\n",
       "      <th>second_big_concept</th>\n",
       "      <th>is_backend</th>\n",
       "      <th>avg_seniority_back</th>\n",
       "      <th>is_frontend</th>\n",
       "      <th>avg_seniority_frontend</th>\n",
       "      <th>is_feature</th>\n",
       "      <th>is_hotfix</th>\n",
       "      <th>is_improvement</th>\n",
       "    </tr>\n",
       "  </thead>\n",
       "  <tbody>\n",
       "    <tr>\n",
       "      <th>0</th>\n",
       "      <td>RUNA-662</td>\n",
       "      <td>hard</td>\n",
       "      <td>10</td>\n",
       "      <td>7</td>\n",
       "      <td>4</td>\n",
       "      <td>476</td>\n",
       "      <td>payroll</td>\n",
       "      <td>kardex</td>\n",
       "      <td>Si</td>\n",
       "      <td>0.4</td>\n",
       "      <td>No</td>\n",
       "      <td>0.70</td>\n",
       "      <td>Si</td>\n",
       "      <td>No</td>\n",
       "      <td>No</td>\n",
       "    </tr>\n",
       "    <tr>\n",
       "      <th>1</th>\n",
       "      <td>RUNA-38</td>\n",
       "      <td>easy</td>\n",
       "      <td>8</td>\n",
       "      <td>8</td>\n",
       "      <td>5</td>\n",
       "      <td>350</td>\n",
       "      <td>payroll</td>\n",
       "      <td>isn</td>\n",
       "      <td>Si</td>\n",
       "      <td>0.5</td>\n",
       "      <td>Si</td>\n",
       "      <td>0.60</td>\n",
       "      <td>No</td>\n",
       "      <td>Si</td>\n",
       "      <td>No</td>\n",
       "    </tr>\n",
       "    <tr>\n",
       "      <th>2</th>\n",
       "      <td>RUNA-571</td>\n",
       "      <td>easy</td>\n",
       "      <td>12</td>\n",
       "      <td>3</td>\n",
       "      <td>6</td>\n",
       "      <td>120</td>\n",
       "      <td>payroll</td>\n",
       "      <td>employees</td>\n",
       "      <td>Si</td>\n",
       "      <td>0.8</td>\n",
       "      <td>Si</td>\n",
       "      <td>0.65</td>\n",
       "      <td>No</td>\n",
       "      <td>Si</td>\n",
       "      <td>No</td>\n",
       "    </tr>\n",
       "    <tr>\n",
       "      <th>3</th>\n",
       "      <td>RUNA-40</td>\n",
       "      <td>hard</td>\n",
       "      <td>13</td>\n",
       "      <td>3</td>\n",
       "      <td>4</td>\n",
       "      <td>456</td>\n",
       "      <td>outsourcer</td>\n",
       "      <td>company</td>\n",
       "      <td>Si</td>\n",
       "      <td>0.7</td>\n",
       "      <td>Si</td>\n",
       "      <td>0.70</td>\n",
       "      <td>No</td>\n",
       "      <td>No</td>\n",
       "      <td>Si</td>\n",
       "    </tr>\n",
       "  </tbody>\n",
       "</table>\n",
       "</div>"
      ],
      "text/plain": [
       "    CARD ID difficult  number_of_cards_in_sprint  \\\n",
       "0  RUNA-662      hard                         10   \n",
       "1   RUNA-38      easy                          8   \n",
       "2  RUNA-571      easy                         12   \n",
       "3   RUNA-40      hard                         13   \n",
       "\n",
       "   standard_acceptance_requirements  clients_requirements  card_value  \\\n",
       "0                                 7                     4         476   \n",
       "1                                 8                     5         350   \n",
       "2                                 3                     6         120   \n",
       "3                                 3                     4         456   \n",
       "\n",
       "  first_big_concept second_big_concept is_backend  avg_seniority_back  \\\n",
       "0           payroll             kardex         Si                 0.4   \n",
       "1           payroll                isn         Si                 0.5   \n",
       "2           payroll          employees         Si                 0.8   \n",
       "3        outsourcer            company         Si                 0.7   \n",
       "\n",
       "  is_frontend  avg_seniority_frontend is_feature is_hotfix is_improvement  \n",
       "0          No                    0.70         Si        No             No  \n",
       "1          Si                    0.60         No        Si             No  \n",
       "2          Si                    0.65         No        Si             No  \n",
       "3          Si                    0.70         No        No             Si  "
      ]
     },
     "execution_count": 257,
     "metadata": {},
     "output_type": "execute_result"
    }
   ],
   "source": [
    "task_data = pd.read_csv(\"task_data_detail.csv\", sep='\\s*,\\s*',header=0, encoding='ascii', engine='python')\n",
    "task_data.head()"
   ]
  },
  {
   "cell_type": "code",
   "execution_count": 28,
   "metadata": {},
   "outputs": [],
   "source": [
    "# task_data.info()"
   ]
  },
  {
   "cell_type": "code",
   "execution_count": 100,
   "metadata": {},
   "outputs": [],
   "source": [
    "def print_means(data, difficult):\n",
    "    print(\"Difficult: \" + difficult)\n",
    "    is_difficult =  data['difficult']== difficult\n",
    "    difficult_cards = data[is_hard]\n",
    "    print(difficult_cards.mean())\n",
    "    print(\"===============================\")"
   ]
  },
  {
   "cell_type": "code",
   "execution_count": 101,
   "metadata": {},
   "outputs": [
    {
     "name": "stdout",
     "output_type": "stream",
     "text": [
      "Difficult: hard\n",
      "number_of_cards_in_sprint            11.50\n",
      "standard_acceptance_requirements      5.00\n",
      "clients_requirements                  4.00\n",
      "card_value                          466.00\n",
      "avg_seniority_back                    0.55\n",
      "avg_seniority_frontend                0.70\n",
      "dtype: float64\n",
      "===============================\n",
      "Difficult: medium\n",
      "number_of_cards_in_sprint            11.50\n",
      "standard_acceptance_requirements      5.00\n",
      "clients_requirements                  4.00\n",
      "card_value                          466.00\n",
      "avg_seniority_back                    0.55\n",
      "avg_seniority_frontend                0.70\n",
      "dtype: float64\n",
      "===============================\n",
      "Difficult: easy\n",
      "number_of_cards_in_sprint            11.50\n",
      "standard_acceptance_requirements      5.00\n",
      "clients_requirements                  4.00\n",
      "card_value                          466.00\n",
      "avg_seniority_back                    0.55\n",
      "avg_seniority_frontend                0.70\n",
      "dtype: float64\n",
      "===============================\n"
     ]
    }
   ],
   "source": [
    "print_means(task_data, 'hard')\n",
    "print_means(task_data, 'medium')\n",
    "print_means(task_data, 'easy')"
   ]
  },
  {
   "cell_type": "code",
   "execution_count": 102,
   "metadata": {},
   "outputs": [],
   "source": [
    "def fill_null_values_with_means(data, column):\n",
    "    if data[column].isnull().any():\n",
    "        data[column] = data[column].fillna(data[column].mean()[0])"
   ]
  },
  {
   "cell_type": "code",
   "execution_count": 103,
   "metadata": {},
   "outputs": [],
   "source": [
    "def fill_null_values_with_mode(data, column):\n",
    "    if data[column].isnull().any():\n",
    "        data[column] = data[column].fillna(data[column].mode()[0])"
   ]
  },
  {
   "cell_type": "code",
   "execution_count": 104,
   "metadata": {},
   "outputs": [],
   "source": [
    "def replace_boolean_values_by_binary_values(data, column, replace_dict):\n",
    "    data[column].map(replace_dict)"
   ]
  },
  {
   "cell_type": "code",
   "execution_count": 258,
   "metadata": {},
   "outputs": [],
   "source": [
    "#Complete empty values with means\n",
    "fill_null_values_with_mode(task_data, 'number_of_cards_in_sprint')\n",
    "fill_null_values_with_means(task_data, 'standard_acceptance_requirements')\n",
    "fill_null_values_with_means(task_data, 'clients_requirements')\n",
    "fill_null_values_with_means(task_data, 'card_value')\n",
    "fill_null_values_with_mode(task_data, 'avg_seniority_back')\n",
    "fill_null_values_with_mode(task_data, 'avg_seniority_frontend')"
   ]
  },
  {
   "cell_type": "code",
   "execution_count": 259,
   "metadata": {},
   "outputs": [
    {
     "data": {
      "text/html": [
       "<div>\n",
       "<style scoped>\n",
       "    .dataframe tbody tr th:only-of-type {\n",
       "        vertical-align: middle;\n",
       "    }\n",
       "\n",
       "    .dataframe tbody tr th {\n",
       "        vertical-align: top;\n",
       "    }\n",
       "\n",
       "    .dataframe thead th {\n",
       "        text-align: right;\n",
       "    }\n",
       "</style>\n",
       "<table border=\"1\" class=\"dataframe\">\n",
       "  <thead>\n",
       "    <tr style=\"text-align: right;\">\n",
       "      <th></th>\n",
       "      <th>CARD ID</th>\n",
       "      <th>difficult</th>\n",
       "      <th>number_of_cards_in_sprint</th>\n",
       "      <th>standard_acceptance_requirements</th>\n",
       "      <th>clients_requirements</th>\n",
       "      <th>card_value</th>\n",
       "      <th>first_big_concept</th>\n",
       "      <th>second_big_concept</th>\n",
       "      <th>is_backend</th>\n",
       "      <th>avg_seniority_back</th>\n",
       "      <th>is_frontend</th>\n",
       "      <th>avg_seniority_frontend</th>\n",
       "      <th>is_feature</th>\n",
       "      <th>is_hotfix</th>\n",
       "      <th>is_improvement</th>\n",
       "    </tr>\n",
       "  </thead>\n",
       "  <tbody>\n",
       "    <tr>\n",
       "      <th>0</th>\n",
       "      <td>RUNA-662</td>\n",
       "      <td>hard</td>\n",
       "      <td>10</td>\n",
       "      <td>7</td>\n",
       "      <td>4</td>\n",
       "      <td>476</td>\n",
       "      <td>payroll</td>\n",
       "      <td>kardex</td>\n",
       "      <td>1</td>\n",
       "      <td>0.4</td>\n",
       "      <td>0</td>\n",
       "      <td>0.70</td>\n",
       "      <td>1</td>\n",
       "      <td>0</td>\n",
       "      <td>0</td>\n",
       "    </tr>\n",
       "    <tr>\n",
       "      <th>1</th>\n",
       "      <td>RUNA-38</td>\n",
       "      <td>easy</td>\n",
       "      <td>8</td>\n",
       "      <td>8</td>\n",
       "      <td>5</td>\n",
       "      <td>350</td>\n",
       "      <td>payroll</td>\n",
       "      <td>isn</td>\n",
       "      <td>1</td>\n",
       "      <td>0.5</td>\n",
       "      <td>1</td>\n",
       "      <td>0.60</td>\n",
       "      <td>0</td>\n",
       "      <td>1</td>\n",
       "      <td>0</td>\n",
       "    </tr>\n",
       "    <tr>\n",
       "      <th>2</th>\n",
       "      <td>RUNA-571</td>\n",
       "      <td>easy</td>\n",
       "      <td>12</td>\n",
       "      <td>3</td>\n",
       "      <td>6</td>\n",
       "      <td>120</td>\n",
       "      <td>payroll</td>\n",
       "      <td>employees</td>\n",
       "      <td>1</td>\n",
       "      <td>0.8</td>\n",
       "      <td>1</td>\n",
       "      <td>0.65</td>\n",
       "      <td>0</td>\n",
       "      <td>1</td>\n",
       "      <td>0</td>\n",
       "    </tr>\n",
       "    <tr>\n",
       "      <th>3</th>\n",
       "      <td>RUNA-40</td>\n",
       "      <td>hard</td>\n",
       "      <td>13</td>\n",
       "      <td>3</td>\n",
       "      <td>4</td>\n",
       "      <td>456</td>\n",
       "      <td>outsourcer</td>\n",
       "      <td>company</td>\n",
       "      <td>1</td>\n",
       "      <td>0.7</td>\n",
       "      <td>1</td>\n",
       "      <td>0.70</td>\n",
       "      <td>0</td>\n",
       "      <td>0</td>\n",
       "      <td>1</td>\n",
       "    </tr>\n",
       "  </tbody>\n",
       "</table>\n",
       "</div>"
      ],
      "text/plain": [
       "    CARD ID difficult  number_of_cards_in_sprint  \\\n",
       "0  RUNA-662      hard                         10   \n",
       "1   RUNA-38      easy                          8   \n",
       "2  RUNA-571      easy                         12   \n",
       "3   RUNA-40      hard                         13   \n",
       "\n",
       "   standard_acceptance_requirements  clients_requirements  card_value  \\\n",
       "0                                 7                     4         476   \n",
       "1                                 8                     5         350   \n",
       "2                                 3                     6         120   \n",
       "3                                 3                     4         456   \n",
       "\n",
       "  first_big_concept second_big_concept  is_backend  avg_seniority_back  \\\n",
       "0           payroll             kardex           1                 0.4   \n",
       "1           payroll                isn           1                 0.5   \n",
       "2           payroll          employees           1                 0.8   \n",
       "3        outsourcer            company           1                 0.7   \n",
       "\n",
       "   is_frontend  avg_seniority_frontend  is_feature  is_hotfix  is_improvement  \n",
       "0            0                    0.70           1          0               0  \n",
       "1            1                    0.60           0          1               0  \n",
       "2            1                    0.65           0          1               0  \n",
       "3            1                    0.70           0          0               1  "
      ]
     },
     "execution_count": 259,
     "metadata": {},
     "output_type": "execute_result"
    }
   ],
   "source": [
    "#Replace boolean values by binary\n",
    "boolean_dicts = {\n",
    "    'No' :0,\n",
    "    'Si' :1\n",
    "}\n",
    "task_data.is_backend = task_data.is_backend.map(boolean_dicts)\n",
    "task_data.is_frontend = task_data.is_frontend.map(boolean_dicts)\n",
    "task_data.is_feature = task_data.is_feature.map(boolean_dicts)\n",
    "task_data.is_hotfix = task_data.is_hotfix.map(boolean_dicts)\n",
    "task_data.is_improvement = task_data.is_improvement.map(boolean_dicts)\n",
    "task_data"
   ]
  },
  {
   "cell_type": "code",
   "execution_count": 225,
   "metadata": {},
   "outputs": [
    {
     "data": {
      "text/plain": [
       "Text(0,0.5,'Frequency')"
      ]
     },
     "execution_count": 225,
     "metadata": {},
     "output_type": "execute_result"
    },
    {
     "data": {
      "image/png": "[encoded data removed]",
      "text/plain": [
       "<matplotlib.figure.Figure at 0x1a13662f28>"
      ]
     },
     "metadata": {},
     "output_type": "display_data"
    }
   ],
   "source": [
    "#Data difficult distribution\n",
    "difficult_task_data = task_data['difficult']\n",
    "plt.figure(figsize=(5,5))\n",
    "plt.hist(difficult_task_data)\n",
    "plt.xticks(rotation=90)\n",
    "plt.title(\"Difficult data Histogram\")\n",
    "plt.xlabel(\"Value\")\n",
    "plt.ylabel(\"Frequency\")"
   ]
  },
  {
   "cell_type": "code",
   "execution_count": 226,
   "metadata": {},
   "outputs": [],
   "source": [
    "def plot_data_by_difficult(data, difficult, column):\n",
    "    is_difficult =  task_data['difficult']== difficult\n",
    "    difficult_cards = task_data[is_hard]\n",
    "    sns.set(); \n",
    "    x = difficult_cards[column].values\n",
    "    ax = sns.distplot(x)"
   ]
  },
  {
   "cell_type": "code",
   "execution_count": 227,
   "metadata": {},
   "outputs": [],
   "source": [
    "def plot_data_by_difficult_by_concept(data, difficult):\n",
    "    is_difficult =  data['difficult']== difficult\n",
    "    difficult_cards = data[is_hard]\n",
    "    difficult_cards.first_big_concept.hist(alpha=0.4)"
   ]
  },
  {
   "cell_type": "code",
   "execution_count": 190,
   "metadata": {},
   "outputs": [],
   "source": [
    "# plot_data_by_difficult(task_data, 'hard', 'standard_acceptance_requirements')"
   ]
  },
  {
   "cell_type": "code",
   "execution_count": 191,
   "metadata": {},
   "outputs": [],
   "source": [
    "# plot_data_by_difficult(task_data, 'hard', 'card_value')"
   ]
  },
  {
   "cell_type": "code",
   "execution_count": 192,
   "metadata": {},
   "outputs": [],
   "source": [
    "# plot_data_by_difficult(task_data, 'medium', 'number_of_cards_in_sprint')"
   ]
  },
  {
   "cell_type": "code",
   "execution_count": 193,
   "metadata": {},
   "outputs": [],
   "source": [
    "# plot_data_by_difficult(task_data, 'medium', 'standard_acceptance_requirements')"
   ]
  },
  {
   "cell_type": "code",
   "execution_count": 194,
   "metadata": {},
   "outputs": [],
   "source": [
    "# plot_data_by_difficult(task_data, 'easy', 'number_of_cards_in_sprint')"
   ]
  },
  {
   "cell_type": "code",
   "execution_count": 195,
   "metadata": {},
   "outputs": [],
   "source": [
    "# plot_data_by_difficult(task_data, 'easy', 'standard_acceptance_requirements')"
   ]
  },
  {
   "cell_type": "code",
   "execution_count": 260,
   "metadata": {},
   "outputs": [],
   "source": [
    "def normalize_data(data, difficult, columns):\n",
    "    is_difficult =  task_data['difficult']== difficult\n",
    "    difficult_cards = task_data[is_hard]\n",
    "    for column in columns:\n",
    "        max_value = task_data[column].max()\n",
    "        min_value = task_data[column].min()\n",
    "        task_data[column] = (task_data[column] - min_value) / (max_value - min_value)"
   ]
  },
  {
   "cell_type": "code",
   "execution_count": 261,
   "metadata": {},
   "outputs": [],
   "source": [
    "normalize_data(task_data, 'hard', ['card_value', 'number_of_cards_in_sprint', 'standard_acceptance_requirements'])"
   ]
  },
  {
   "cell_type": "code",
   "execution_count": 262,
   "metadata": {},
   "outputs": [],
   "source": [
    "normalize_data(task_data, 'medium', ['card_value', 'number_of_cards_in_sprint', 'standard_acceptance_requirements'])"
   ]
  },
  {
   "cell_type": "code",
   "execution_count": 263,
   "metadata": {},
   "outputs": [],
   "source": [
    "normalize_data(task_data, 'easy', ['card_value', 'number_of_cards_in_sprint', 'standard_acceptance_requirements'])"
   ]
  },
  {
   "cell_type": "code",
   "execution_count": 264,
   "metadata": {},
   "outputs": [
    {
     "data": {
      "text/html": [
       "<div>\n",
       "<style scoped>\n",
       "    .dataframe tbody tr th:only-of-type {\n",
       "        vertical-align: middle;\n",
       "    }\n",
       "\n",
       "    .dataframe tbody tr th {\n",
       "        vertical-align: top;\n",
       "    }\n",
       "\n",
       "    .dataframe thead th {\n",
       "        text-align: right;\n",
       "    }\n",
       "</style>\n",
       "<table border=\"1\" class=\"dataframe\">\n",
       "  <thead>\n",
       "    <tr style=\"text-align: right;\">\n",
       "      <th></th>\n",
       "      <th>CARD ID</th>\n",
       "      <th>difficult</th>\n",
       "      <th>number_of_cards_in_sprint</th>\n",
       "      <th>standard_acceptance_requirements</th>\n",
       "      <th>clients_requirements</th>\n",
       "      <th>card_value</th>\n",
       "      <th>first_big_concept</th>\n",
       "      <th>second_big_concept</th>\n",
       "      <th>is_backend</th>\n",
       "      <th>avg_seniority_back</th>\n",
       "      <th>is_frontend</th>\n",
       "      <th>avg_seniority_frontend</th>\n",
       "      <th>is_feature</th>\n",
       "      <th>is_hotfix</th>\n",
       "      <th>is_improvement</th>\n",
       "    </tr>\n",
       "  </thead>\n",
       "  <tbody>\n",
       "    <tr>\n",
       "      <th>0</th>\n",
       "      <td>RUNA-662</td>\n",
       "      <td>hard</td>\n",
       "      <td>0.4</td>\n",
       "      <td>0.8</td>\n",
       "      <td>4</td>\n",
       "      <td>1.000000</td>\n",
       "      <td>payroll</td>\n",
       "      <td>kardex</td>\n",
       "      <td>1</td>\n",
       "      <td>0.4</td>\n",
       "      <td>0</td>\n",
       "      <td>0.70</td>\n",
       "      <td>1</td>\n",
       "      <td>0</td>\n",
       "      <td>0</td>\n",
       "    </tr>\n",
       "    <tr>\n",
       "      <th>1</th>\n",
       "      <td>RUNA-38</td>\n",
       "      <td>easy</td>\n",
       "      <td>0.0</td>\n",
       "      <td>1.0</td>\n",
       "      <td>5</td>\n",
       "      <td>0.646067</td>\n",
       "      <td>payroll</td>\n",
       "      <td>isn</td>\n",
       "      <td>1</td>\n",
       "      <td>0.5</td>\n",
       "      <td>1</td>\n",
       "      <td>0.60</td>\n",
       "      <td>0</td>\n",
       "      <td>1</td>\n",
       "      <td>0</td>\n",
       "    </tr>\n",
       "    <tr>\n",
       "      <th>2</th>\n",
       "      <td>RUNA-571</td>\n",
       "      <td>easy</td>\n",
       "      <td>0.8</td>\n",
       "      <td>0.0</td>\n",
       "      <td>6</td>\n",
       "      <td>0.000000</td>\n",
       "      <td>payroll</td>\n",
       "      <td>employees</td>\n",
       "      <td>1</td>\n",
       "      <td>0.8</td>\n",
       "      <td>1</td>\n",
       "      <td>0.65</td>\n",
       "      <td>0</td>\n",
       "      <td>1</td>\n",
       "      <td>0</td>\n",
       "    </tr>\n",
       "    <tr>\n",
       "      <th>3</th>\n",
       "      <td>RUNA-40</td>\n",
       "      <td>hard</td>\n",
       "      <td>1.0</td>\n",
       "      <td>0.0</td>\n",
       "      <td>4</td>\n",
       "      <td>0.943820</td>\n",
       "      <td>outsourcer</td>\n",
       "      <td>company</td>\n",
       "      <td>1</td>\n",
       "      <td>0.7</td>\n",
       "      <td>1</td>\n",
       "      <td>0.70</td>\n",
       "      <td>0</td>\n",
       "      <td>0</td>\n",
       "      <td>1</td>\n",
       "    </tr>\n",
       "  </tbody>\n",
       "</table>\n",
       "</div>"
      ],
      "text/plain": [
       "    CARD ID difficult  number_of_cards_in_sprint  \\\n",
       "0  RUNA-662      hard                        0.4   \n",
       "1   RUNA-38      easy                        0.0   \n",
       "2  RUNA-571      easy                        0.8   \n",
       "3   RUNA-40      hard                        1.0   \n",
       "\n",
       "   standard_acceptance_requirements  clients_requirements  card_value  \\\n",
       "0                               0.8                     4    1.000000   \n",
       "1                               1.0                     5    0.646067   \n",
       "2                               0.0                     6    0.000000   \n",
       "3                               0.0                     4    0.943820   \n",
       "\n",
       "  first_big_concept second_big_concept  is_backend  avg_seniority_back  \\\n",
       "0           payroll             kardex           1                 0.4   \n",
       "1           payroll                isn           1                 0.5   \n",
       "2           payroll          employees           1                 0.8   \n",
       "3        outsourcer            company           1                 0.7   \n",
       "\n",
       "   is_frontend  avg_seniority_frontend  is_feature  is_hotfix  is_improvement  \n",
       "0            0                    0.70           1          0               0  \n",
       "1            1                    0.60           0          1               0  \n",
       "2            1                    0.65           0          1               0  \n",
       "3            1                    0.70           0          0               1  "
      ]
     },
     "execution_count": 264,
     "metadata": {},
     "output_type": "execute_result"
    }
   ],
   "source": [
    "task_data"
   ]
  },
  {
   "cell_type": "code",
   "execution_count": 266,
   "metadata": {},
   "outputs": [],
   "source": [
    "# plot_data_by_difficult(task_data, 'hard', 'number_of_cards_in_sprint')"
   ]
  },
  {
   "cell_type": "code",
   "execution_count": 197,
   "metadata": {},
   "outputs": [],
   "source": [
    "# plot_data_by_difficult(task_data, 'hard', 'number_of_cards_in_sprint')"
   ]
  },
  {
   "cell_type": "code",
   "execution_count": 198,
   "metadata": {},
   "outputs": [],
   "source": [
    "# plot_data_by_difficult_by_concept(task_data, 'hard')"
   ]
  },
  {
   "cell_type": "code",
   "execution_count": 267,
   "metadata": {},
   "outputs": [
    {
     "data": {
      "text/html": [
       "<div>\n",
       "<style scoped>\n",
       "    .dataframe tbody tr th:only-of-type {\n",
       "        vertical-align: middle;\n",
       "    }\n",
       "\n",
       "    .dataframe tbody tr th {\n",
       "        vertical-align: top;\n",
       "    }\n",
       "\n",
       "    .dataframe thead th {\n",
       "        text-align: right;\n",
       "    }\n",
       "</style>\n",
       "<table border=\"1\" class=\"dataframe\">\n",
       "  <thead>\n",
       "    <tr style=\"text-align: right;\">\n",
       "      <th></th>\n",
       "      <th>CARD ID</th>\n",
       "      <th>difficult</th>\n",
       "      <th>number_of_cards_in_sprint</th>\n",
       "      <th>standard_acceptance_requirements</th>\n",
       "      <th>clients_requirements</th>\n",
       "      <th>card_value</th>\n",
       "      <th>first_big_concept</th>\n",
       "      <th>second_big_concept</th>\n",
       "      <th>is_backend</th>\n",
       "      <th>avg_seniority_back</th>\n",
       "      <th>is_frontend</th>\n",
       "      <th>avg_seniority_frontend</th>\n",
       "      <th>is_feature</th>\n",
       "      <th>is_hotfix</th>\n",
       "      <th>is_improvement</th>\n",
       "    </tr>\n",
       "  </thead>\n",
       "  <tbody>\n",
       "    <tr>\n",
       "      <th>0</th>\n",
       "      <td>RUNA-662</td>\n",
       "      <td>0</td>\n",
       "      <td>0.4</td>\n",
       "      <td>0.8</td>\n",
       "      <td>4</td>\n",
       "      <td>1.000000</td>\n",
       "      <td>payroll</td>\n",
       "      <td>kardex</td>\n",
       "      <td>1</td>\n",
       "      <td>0.4</td>\n",
       "      <td>0</td>\n",
       "      <td>0.70</td>\n",
       "      <td>1</td>\n",
       "      <td>0</td>\n",
       "      <td>0</td>\n",
       "    </tr>\n",
       "    <tr>\n",
       "      <th>1</th>\n",
       "      <td>RUNA-38</td>\n",
       "      <td>2</td>\n",
       "      <td>0.0</td>\n",
       "      <td>1.0</td>\n",
       "      <td>5</td>\n",
       "      <td>0.646067</td>\n",
       "      <td>payroll</td>\n",
       "      <td>isn</td>\n",
       "      <td>1</td>\n",
       "      <td>0.5</td>\n",
       "      <td>1</td>\n",
       "      <td>0.60</td>\n",
       "      <td>0</td>\n",
       "      <td>1</td>\n",
       "      <td>0</td>\n",
       "    </tr>\n",
       "    <tr>\n",
       "      <th>2</th>\n",
       "      <td>RUNA-571</td>\n",
       "      <td>2</td>\n",
       "      <td>0.8</td>\n",
       "      <td>0.0</td>\n",
       "      <td>6</td>\n",
       "      <td>0.000000</td>\n",
       "      <td>payroll</td>\n",
       "      <td>employees</td>\n",
       "      <td>1</td>\n",
       "      <td>0.8</td>\n",
       "      <td>1</td>\n",
       "      <td>0.65</td>\n",
       "      <td>0</td>\n",
       "      <td>1</td>\n",
       "      <td>0</td>\n",
       "    </tr>\n",
       "    <tr>\n",
       "      <th>3</th>\n",
       "      <td>RUNA-40</td>\n",
       "      <td>0</td>\n",
       "      <td>1.0</td>\n",
       "      <td>0.0</td>\n",
       "      <td>4</td>\n",
       "      <td>0.943820</td>\n",
       "      <td>outsourcer</td>\n",
       "      <td>company</td>\n",
       "      <td>1</td>\n",
       "      <td>0.7</td>\n",
       "      <td>1</td>\n",
       "      <td>0.70</td>\n",
       "      <td>0</td>\n",
       "      <td>0</td>\n",
       "      <td>1</td>\n",
       "    </tr>\n",
       "  </tbody>\n",
       "</table>\n",
       "</div>"
      ],
      "text/plain": [
       "    CARD ID  difficult  number_of_cards_in_sprint  \\\n",
       "0  RUNA-662          0                        0.4   \n",
       "1   RUNA-38          2                        0.0   \n",
       "2  RUNA-571          2                        0.8   \n",
       "3   RUNA-40          0                        1.0   \n",
       "\n",
       "   standard_acceptance_requirements  clients_requirements  card_value  \\\n",
       "0                               0.8                     4    1.000000   \n",
       "1                               1.0                     5    0.646067   \n",
       "2                               0.0                     6    0.000000   \n",
       "3                               0.0                     4    0.943820   \n",
       "\n",
       "  first_big_concept second_big_concept  is_backend  avg_seniority_back  \\\n",
       "0           payroll             kardex           1                 0.4   \n",
       "1           payroll                isn           1                 0.5   \n",
       "2           payroll          employees           1                 0.8   \n",
       "3        outsourcer            company           1                 0.7   \n",
       "\n",
       "   is_frontend  avg_seniority_frontend  is_feature  is_hotfix  is_improvement  \n",
       "0            0                    0.70           1          0               0  \n",
       "1            1                    0.60           0          1               0  \n",
       "2            1                    0.65           0          1               0  \n",
       "3            1                    0.70           0          0               1  "
      ]
     },
     "execution_count": 267,
     "metadata": {},
     "output_type": "execute_result"
    }
   ],
   "source": [
    "difficult_as_a_class = {\n",
    "    'hard'     :0,\n",
    "    'medium'   :1,\n",
    "    'easy'     :2\n",
    "}\n",
    "\n",
    "task_data.difficult = task_data.difficult.map(difficult_as_a_class)\n",
    "task_data"
   ]
  },
  {
   "cell_type": "code",
   "execution_count": 297,
   "metadata": {},
   "outputs": [
    {
     "data": {
      "text/html": [
       "<div>\n",
       "<style scoped>\n",
       "    .dataframe tbody tr th:only-of-type {\n",
       "        vertical-align: middle;\n",
       "    }\n",
       "\n",
       "    .dataframe tbody tr th {\n",
       "        vertical-align: top;\n",
       "    }\n",
       "\n",
       "    .dataframe thead th {\n",
       "        text-align: right;\n",
       "    }\n",
       "</style>\n",
       "<table border=\"1\" class=\"dataframe\">\n",
       "  <thead>\n",
       "    <tr style=\"text-align: right;\">\n",
       "      <th></th>\n",
       "      <th>difficult</th>\n",
       "      <th>number_of_cards_in_sprint</th>\n",
       "      <th>standard_acceptance_requirements</th>\n",
       "      <th>clients_requirements</th>\n",
       "      <th>card_value</th>\n",
       "      <th>first_big_concept</th>\n",
       "      <th>second_big_concept</th>\n",
       "      <th>is_backend</th>\n",
       "      <th>avg_seniority_back</th>\n",
       "      <th>is_frontend</th>\n",
       "      <th>avg_seniority_frontend</th>\n",
       "      <th>is_feature</th>\n",
       "      <th>is_hotfix</th>\n",
       "      <th>is_improvement</th>\n",
       "    </tr>\n",
       "  </thead>\n",
       "  <tbody>\n",
       "    <tr>\n",
       "      <th>0</th>\n",
       "      <td>0</td>\n",
       "      <td>0.4</td>\n",
       "      <td>0.8</td>\n",
       "      <td>4</td>\n",
       "      <td>1.000000</td>\n",
       "      <td>0</td>\n",
       "      <td>1</td>\n",
       "      <td>1</td>\n",
       "      <td>0.4</td>\n",
       "      <td>0</td>\n",
       "      <td>0.70</td>\n",
       "      <td>1</td>\n",
       "      <td>0</td>\n",
       "      <td>0</td>\n",
       "    </tr>\n",
       "    <tr>\n",
       "      <th>1</th>\n",
       "      <td>2</td>\n",
       "      <td>0.0</td>\n",
       "      <td>1.0</td>\n",
       "      <td>5</td>\n",
       "      <td>0.646067</td>\n",
       "      <td>0</td>\n",
       "      <td>2</td>\n",
       "      <td>1</td>\n",
       "      <td>0.5</td>\n",
       "      <td>1</td>\n",
       "      <td>0.60</td>\n",
       "      <td>0</td>\n",
       "      <td>1</td>\n",
       "      <td>0</td>\n",
       "    </tr>\n",
       "    <tr>\n",
       "      <th>2</th>\n",
       "      <td>2</td>\n",
       "      <td>0.8</td>\n",
       "      <td>0.0</td>\n",
       "      <td>6</td>\n",
       "      <td>0.000000</td>\n",
       "      <td>0</td>\n",
       "      <td>3</td>\n",
       "      <td>1</td>\n",
       "      <td>0.8</td>\n",
       "      <td>1</td>\n",
       "      <td>0.65</td>\n",
       "      <td>0</td>\n",
       "      <td>1</td>\n",
       "      <td>0</td>\n",
       "    </tr>\n",
       "    <tr>\n",
       "      <th>3</th>\n",
       "      <td>0</td>\n",
       "      <td>1.0</td>\n",
       "      <td>0.0</td>\n",
       "      <td>4</td>\n",
       "      <td>0.943820</td>\n",
       "      <td>4</td>\n",
       "      <td>5</td>\n",
       "      <td>1</td>\n",
       "      <td>0.7</td>\n",
       "      <td>1</td>\n",
       "      <td>0.70</td>\n",
       "      <td>0</td>\n",
       "      <td>0</td>\n",
       "      <td>1</td>\n",
       "    </tr>\n",
       "  </tbody>\n",
       "</table>\n",
       "</div>"
      ],
      "text/plain": [
       "   difficult  number_of_cards_in_sprint  standard_acceptance_requirements  \\\n",
       "0          0                        0.4                               0.8   \n",
       "1          2                        0.0                               1.0   \n",
       "2          2                        0.8                               0.0   \n",
       "3          0                        1.0                               0.0   \n",
       "\n",
       "   clients_requirements  card_value  first_big_concept  second_big_concept  \\\n",
       "0                     4    1.000000                  0                   1   \n",
       "1                     5    0.646067                  0                   2   \n",
       "2                     6    0.000000                  0                   3   \n",
       "3                     4    0.943820                  4                   5   \n",
       "\n",
       "   is_backend  avg_seniority_back  is_frontend  avg_seniority_frontend  \\\n",
       "0           1                 0.4            0                    0.70   \n",
       "1           1                 0.5            1                    0.60   \n",
       "2           1                 0.8            1                    0.65   \n",
       "3           1                 0.7            1                    0.70   \n",
       "\n",
       "   is_feature  is_hotfix  is_improvement  \n",
       "0           1          0               0  \n",
       "1           0          1               0  \n",
       "2           0          1               0  \n",
       "3           0          0               1  "
      ]
     },
     "execution_count": 297,
     "metadata": {},
     "output_type": "execute_result"
    }
   ],
   "source": [
    "difficult_by_concepts = {\n",
    "    'payroll'     :0,\n",
    "    'kardex'      :1,\n",
    "    'isn'         :2,\n",
    "    'employees'   :3,\n",
    "    'outsourcer'  :4,\n",
    "    'company'     :5\n",
    "}\n",
    "\n",
    "task_data.first_big_concept = task_data.first_big_concept.map(difficult_by_concepts)\n",
    "task_data.second_big_concept = task_data.second_big_concept.map(difficult_by_concepts)\n",
    "task_data"
   ]
  },
  {
   "cell_type": "code",
   "execution_count": null,
   "metadata": {},
   "outputs": [],
   "source": [
    "del task_data['CARD ID']"
   ]
  },
  {
   "cell_type": "code",
   "execution_count": 298,
   "metadata": {},
   "outputs": [],
   "source": [
    "X = task_data.drop('difficult', axis=1)\n",
    "y = task_data['difficult']"
   ]
  },
  {
   "cell_type": "code",
   "execution_count": 299,
   "metadata": {},
   "outputs": [],
   "source": [
    "X_train, X_test, y_train, y_test = train_test_split(X, y, test_size = 0.20)"
   ]
  },
  {
   "cell_type": "code",
   "execution_count": 300,
   "metadata": {},
   "outputs": [
    {
     "data": {
      "text/plain": [
       "SVC(C=1.0, cache_size=200, class_weight=None, coef0=0.0,\n",
       "  decision_function_shape='ovr', degree=3, gamma='auto', kernel='linear',\n",
       "  max_iter=-1, probability=False, random_state=None, shrinking=True,\n",
       "  tol=0.001, verbose=False)"
      ]
     },
     "execution_count": 300,
     "metadata": {},
     "output_type": "execute_result"
    }
   ],
   "source": [
    "svclassifier = SVC(kernel='linear')\n",
    "svclassifier.fit(X_train, y_train)"
   ]
  },
  {
   "cell_type": "code",
   "execution_count": 326,
   "metadata": {},
   "outputs": [],
   "source": [
    "y_pred = svclassifier.predict(X_test)"
   ]
  },
  {
   "cell_type": "code",
   "execution_count": 307,
   "metadata": {},
   "outputs": [],
   "source": [
    "def plot_confusion_matrix(y_true, y_pred, classes,\n",
    "                          normalize=False,\n",
    "                          title=None,\n",
    "                          cmap=plt.cm.Blues):\n",
    "    if not title:\n",
    "        if normalize:\n",
    "            title = 'Normalized confusion matrix'\n",
    "        else:\n",
    "            title = 'Confusion matrix, without normalization'\n",
    "\n",
    "    cm = confusion_matrix(y_true, y_pred)\n",
    "    classes = classes[unique_labels(y_true, y_pred)]\n",
    "    if normalize:\n",
    "        \n",
    "        cm = cm.astype('float') / cm.sum(axis=1)[:, np.newaxis]\n",
    "        print(\"Normalized confusion matrix\")\n",
    "    else:\n",
    "        print('Confusion matrix, without normalization')\n",
    "\n",
    "    print(cm)\n",
    "\n",
    "    fig, ax = plt.subplots()\n",
    "    im = ax.imshow(cm, interpolation='nearest', cmap=cmap)\n",
    "    ax.figure.colorbar(im, ax=ax)\n",
    "    ax.set(xticks=np.arange(cm.shape[1]),\n",
    "           yticks=np.arange(cm.shape[0]),\n",
    "           xticklabels=classes, yticklabels=classes,\n",
    "           title=title,\n",
    "           ylabel='True label',\n",
    "           xlabel='Predicted label')\n",
    "\n",
    "    plt.setp(ax.get_xticklabels(), rotation=45, ha=\"right\",\n",
    "             rotation_mode=\"anchor\")\n",
    "\n",
    "    fmt = '.2f' if normalize else 'd'\n",
    "    thresh = cm.max() / 2.\n",
    "    for i in range(cm.shape[0]):\n",
    "        for j in range(cm.shape[1]):\n",
    "            ax.text(j, i, format(cm[i, j], fmt),\n",
    "                    ha=\"center\", va=\"center\",\n",
    "                    color=\"white\" if cm[i, j] > thresh else \"black\")\n",
    "    fig.tight_layout()\n",
    "    return ax"
   ]
  },
  {
   "cell_type": "code",
   "execution_count": 341,
   "metadata": {},
   "outputs": [
    {
     "name": "stdout",
     "output_type": "stream",
     "text": [
      "Normalized confusion matrix\n",
      "[[1.]]\n"
     ]
    },
    {
     "data": {
      "text/plain": [
       "<matplotlib.axes._subplots.AxesSubplot at 0x1a1407f748>"
      ]
     },
     "execution_count": 341,
     "metadata": {},
     "output_type": "execute_result"
    },
    {
     "data": {
      "image/png": "[encoded data removed]",
      "text/plain": [
       "<matplotlib.figure.Figure at 0x1a1329e828>"
      ]
     },
     "metadata": {},
     "output_type": "display_data"
    }
   ],
   "source": [
    "class_names = np.array(list(difficult_as_a_class.keys()))\n",
    "plot_confusion_matrix(y_test, y_pred, classes=class_names, normalize=True, title='Normalized confusion matrix')"
   ]
  },
  {
   "cell_type": "code",
   "execution_count": 306,
   "metadata": {},
   "outputs": [
    {
     "name": "stdout",
     "output_type": "stream",
     "text": [
      "             precision    recall  f1-score   support\n",
      "\n",
      "          2       1.00      1.00      1.00         1\n",
      "\n",
      "avg / total       1.00      1.00      1.00         1\n",
      "\n"
     ]
    }
   ],
   "source": [
    "print(classification_report(y_test,y_pred))"
   ]
  }
 ],
 "metadata": {
  "kernelspec": {
   "display_name": "Python 3",
   "language": "python",
   "name": "python3"
  },
  "language_info": {
   "codemirror_mode": {
    "name": "ipython",
    "version": 3
   },
   "file_extension": ".py",
   "mimetype": "text/x-python",
   "name": "python",
   "nbconvert_exporter": "python",
   "pygments_lexer": "ipython3",
   "version": "3.6.4"
  }
 },
 "nbformat": 4,
 "nbformat_minor": 2
}
